{
 "cells": [
  {
   "cell_type": "code",
   "execution_count": 1,
   "id": "1206d4cc",
   "metadata": {},
   "outputs": [],
   "source": [
    "# Gerando Modelo de Machine Learning (Classificação)\n",
    "# Preparação dos Dados e Treinamento do Modelo de Machine Learning - Parte 1.\n",
    "#Halline Araújo"
   ]
  },
  {
   "cell_type": "code",
   "execution_count": 3,
   "id": "1b16cb23",
   "metadata": {},
   "outputs": [],
   "source": [
    "#Conjunto de importacoes\n",
    "import numpy as np #biblioteca de manipulação de valores vetor, matriz multidimensionais; biblioteca de machine learning que manipula dados, objetos grandes\n",
    "import pandas as pd #é uma biblioteca de manipulação de dados equivalente ao excel\n",
    "import matplotlib.pyplot as plt #biblioteca de visualização de dados 2d e 3d, serve para manipular e visualizar informações em vários tipos de gráfico\n",
    "from sklearn.naive_bayes import MultinomialNB #é a principal biblioteca de Machine Learning para python, onde estão os 80 algoritmos de ML(supervisionados, não-supervisionados, reforço) para desenvolver com python\n",
    "from sklearn.naive_bayes import GaussianNB #é a principal biblioteca de Machine Learning para python, onde estão os 80 algoritmos de ML(supervisionados, não-supervisionados, reforço) para desenvolver com python\n",
    "from sklearn.metrics import accuracy_score #mostra a acurácia e precisão\n",
    "from sklearn.model_selection import train_test_split #pega a base toda e separa as partes de teste e treinamento"
   ]
  },
  {
   "cell_type": "code",
   "execution_count": 4,
   "id": "4102794c",
   "metadata": {},
   "outputs": [],
   "source": [
    "#Carrega o dataset com os dados para o treinamento e validacao\n",
    "dados_mamiferos_treino = pd.read_csv(\"dados_mamiferos_treino.csv\", encoding=\"utf-8\")"
   ]
  },
  {
   "cell_type": "code",
   "execution_count": 5,
   "id": "1c559259",
   "metadata": {},
   "outputs": [
    {
     "data": {
      "text/html": [
       "<div>\n",
       "<style scoped>\n",
       "    .dataframe tbody tr th:only-of-type {\n",
       "        vertical-align: middle;\n",
       "    }\n",
       "\n",
       "    .dataframe tbody tr th {\n",
       "        vertical-align: top;\n",
       "    }\n",
       "\n",
       "    .dataframe thead th {\n",
       "        text-align: right;\n",
       "    }\n",
       "</style>\n",
       "<table border=\"1\" class=\"dataframe\">\n",
       "  <thead>\n",
       "    <tr style=\"text-align: right;\">\n",
       "      <th></th>\n",
       "      <th>ID</th>\n",
       "      <th>nome</th>\n",
       "      <th>sangue</th>\n",
       "      <th>bota_ovo</th>\n",
       "      <th>voa</th>\n",
       "      <th>mora_agua</th>\n",
       "      <th>classificacao</th>\n",
       "    </tr>\n",
       "  </thead>\n",
       "  <tbody>\n",
       "    <tr>\n",
       "      <th>0</th>\n",
       "      <td>1</td>\n",
       "      <td>humano</td>\n",
       "      <td>1</td>\n",
       "      <td>2</td>\n",
       "      <td>2</td>\n",
       "      <td>2</td>\n",
       "      <td>1</td>\n",
       "    </tr>\n",
       "    <tr>\n",
       "      <th>1</th>\n",
       "      <td>2</td>\n",
       "      <td>cobra</td>\n",
       "      <td>2</td>\n",
       "      <td>1</td>\n",
       "      <td>2</td>\n",
       "      <td>2</td>\n",
       "      <td>0</td>\n",
       "    </tr>\n",
       "    <tr>\n",
       "      <th>2</th>\n",
       "      <td>3</td>\n",
       "      <td>baleia</td>\n",
       "      <td>1</td>\n",
       "      <td>2</td>\n",
       "      <td>2</td>\n",
       "      <td>1</td>\n",
       "      <td>1</td>\n",
       "    </tr>\n",
       "    <tr>\n",
       "      <th>3</th>\n",
       "      <td>4</td>\n",
       "      <td>sapo</td>\n",
       "      <td>1</td>\n",
       "      <td>1</td>\n",
       "      <td>2</td>\n",
       "      <td>3</td>\n",
       "      <td>0</td>\n",
       "    </tr>\n",
       "    <tr>\n",
       "      <th>4</th>\n",
       "      <td>5</td>\n",
       "      <td>morcego</td>\n",
       "      <td>1</td>\n",
       "      <td>2</td>\n",
       "      <td>1</td>\n",
       "      <td>2</td>\n",
       "      <td>1</td>\n",
       "    </tr>\n",
       "  </tbody>\n",
       "</table>\n",
       "</div>"
      ],
      "text/plain": [
       "   ID     nome  sangue  bota_ovo  voa  mora_agua  classificacao\n",
       "0   1   humano       1         2    2          2              1\n",
       "1   2    cobra       2         1    2          2              0\n",
       "2   3   baleia       1         2    2          1              1\n",
       "3   4     sapo       1         1    2          3              0\n",
       "4   5  morcego       1         2    1          2              1"
      ]
     },
     "execution_count": 5,
     "metadata": {},
     "output_type": "execute_result"
    }
   ],
   "source": [
    "#visualizando os dados mostrando as 5 primeiras linhas do dataframe; para visualizar as 5 ultimas linhas usa o comando\n",
    "#nomeDoDataframe.tail().Se quiser ver as 15 ultimas linhas coloca o parametro dentro dos parenteses\n",
    "dados_mamiferos_treino.head()"
   ]
  },
  {
   "cell_type": "code",
   "execution_count": 7,
   "id": "34911ef7",
   "metadata": {},
   "outputs": [
    {
     "data": {
      "text/html": [
       "<div>\n",
       "<style scoped>\n",
       "    .dataframe tbody tr th:only-of-type {\n",
       "        vertical-align: middle;\n",
       "    }\n",
       "\n",
       "    .dataframe tbody tr th {\n",
       "        vertical-align: top;\n",
       "    }\n",
       "\n",
       "    .dataframe thead th {\n",
       "        text-align: right;\n",
       "    }\n",
       "</style>\n",
       "<table border=\"1\" class=\"dataframe\">\n",
       "  <thead>\n",
       "    <tr style=\"text-align: right;\">\n",
       "      <th></th>\n",
       "      <th>ID</th>\n",
       "      <th>nome</th>\n",
       "      <th>sangue</th>\n",
       "      <th>bota_ovo</th>\n",
       "      <th>voa</th>\n",
       "      <th>mora_agua</th>\n",
       "      <th>classificacao</th>\n",
       "    </tr>\n",
       "  </thead>\n",
       "  <tbody>\n",
       "    <tr>\n",
       "      <th>11</th>\n",
       "      <td>12</td>\n",
       "      <td>salamandra</td>\n",
       "      <td>2</td>\n",
       "      <td>1</td>\n",
       "      <td>2</td>\n",
       "      <td>3</td>\n",
       "      <td>0</td>\n",
       "    </tr>\n",
       "    <tr>\n",
       "      <th>12</th>\n",
       "      <td>13</td>\n",
       "      <td>coruja</td>\n",
       "      <td>1</td>\n",
       "      <td>1</td>\n",
       "      <td>1</td>\n",
       "      <td>2</td>\n",
       "      <td>0</td>\n",
       "    </tr>\n",
       "    <tr>\n",
       "      <th>13</th>\n",
       "      <td>14</td>\n",
       "      <td>golfinho</td>\n",
       "      <td>1</td>\n",
       "      <td>2</td>\n",
       "      <td>2</td>\n",
       "      <td>1</td>\n",
       "      <td>1</td>\n",
       "    </tr>\n",
       "    <tr>\n",
       "      <th>14</th>\n",
       "      <td>15</td>\n",
       "      <td>águia</td>\n",
       "      <td>1</td>\n",
       "      <td>1</td>\n",
       "      <td>1</td>\n",
       "      <td>2</td>\n",
       "      <td>0</td>\n",
       "    </tr>\n",
       "    <tr>\n",
       "      <th>15</th>\n",
       "      <td>16</td>\n",
       "      <td>ornitorrinco</td>\n",
       "      <td>1</td>\n",
       "      <td>1</td>\n",
       "      <td>2</td>\n",
       "      <td>2</td>\n",
       "      <td>1</td>\n",
       "    </tr>\n",
       "  </tbody>\n",
       "</table>\n",
       "</div>"
      ],
      "text/plain": [
       "    ID          nome  sangue  bota_ovo  voa  mora_agua  classificacao\n",
       "11  12    salamandra       2         1    2          3              0\n",
       "12  13        coruja       1         1    1          2              0\n",
       "13  14      golfinho       1         2    2          1              1\n",
       "14  15         águia       1         1    1          2              0\n",
       "15  16  ornitorrinco       1         1    2          2              1"
      ]
     },
     "execution_count": 7,
     "metadata": {},
     "output_type": "execute_result"
    }
   ],
   "source": [
    "dados_mamiferos_treino.tail()"
   ]
  },
  {
   "cell_type": "code",
   "execution_count": 9,
   "id": "684a87b8",
   "metadata": {},
   "outputs": [],
   "source": [
    "#Definição dos atributos que deverao ser treinados para gerar o modelo de classificacao\n",
    "data_treino = np.array(dados_mamiferos_treino[['sangue', 'bota_ovo', 'voa', 'mora_agua']])\n",
    "#Definição do atributo de classificacao\n",
    "data_classif = np.array(dados_mamiferos_treino['classificacao'])"
   ]
  },
  {
   "cell_type": "code",
   "execution_count": 12,
   "id": "5d8087cc",
   "metadata": {},
   "outputs": [
    {
     "data": {
      "text/plain": [
       "(16, 7)"
      ]
     },
     "execution_count": 12,
     "metadata": {},
     "output_type": "execute_result"
    }
   ],
   "source": [
    "#mostra quantas linhas e colunas existe no dataframe\n",
    "dados_mamiferos_treino.shape"
   ]
  },
  {
   "cell_type": "code",
   "execution_count": 13,
   "id": "f6cef58f",
   "metadata": {},
   "outputs": [],
   "source": [
    "# Identificando a correlação entre as variáveis\n",
    "# Correlação não implica causalidade\n",
    "#metodo ranger filtra as colunas\n",
    "def plot_corr(dados_mamiferos_treino, size=10):\n",
    "    corr = dados_mamiferos_treino.corr()    \n",
    "    fig, ax = plt.subplots(figsize = (size, size))\n",
    "    ax.matshow(corr)  \n",
    "    plt.xticks(range(len(corr.columns)), corr.columns) \n",
    "    plt.yticks(range(len(corr.columns)), corr.columns) "
   ]
  },
  {
   "cell_type": "code",
   "execution_count": 14,
   "id": "ba5f0989",
   "metadata": {},
   "outputs": [
    {
     "data": {
      "image/png": "[encoded data removed]",
      "text/plain": [
       "<Figure size 1000x1000 with 1 Axes>"
      ]
     },
     "metadata": {},
     "output_type": "display_data"
    }
   ],
   "source": [
    "# Criando o gráfico: representa uma matriz de correlação com as featurings que fazem parte do dataframe; oq esta na diagonal tem\n",
    "#100% de correlação. Featurings essenciais ou fundamentais tem maior correlação (cores claras) quanto mais escuro pior\n",
    "#a correlação\n",
    "plot_corr(dados_mamiferos_treino)"
   ]
  },
  {
   "cell_type": "code",
   "execution_count": 18,
   "id": "61950b15",
   "metadata": {},
   "outputs": [],
   "source": [
    "# Spliting = 70% para dados de treino e 30% para dados de teste(separando as bases de treinamento e teste)\n",
    "#Definição dos conjuntos de treinamento e validação de forma randômica: x_treino dados de treinamento e y_treino\n",
    "#dados de validação; x_val e y_val(classificação)\n",
    "x_treino, x_val, y_treino, y_val = train_test_split(data_treino, data_classif, test_size=0.30)"
   ]
  },
  {
   "cell_type": "code",
   "execution_count": 19,
   "id": "e4805e30",
   "metadata": {},
   "outputs": [
    {
     "name": "stdout",
     "output_type": "stream",
     "text": [
      "-----------------------\n",
      "Conjunto de Treinamento\n",
      "[[1 2 2 1]\n",
      " [2 1 2 2]\n",
      " [2 1 2 3]\n",
      " [1 2 1 2]\n",
      " [2 1 2 1]\n",
      " [1 1 2 2]\n",
      " [1 1 1 2]\n",
      " [1 2 2 1]\n",
      " [1 2 2 2]\n",
      " [2 1 2 3]\n",
      " [1 1 2 3]]\n",
      "Conjunto de Validacao\n",
      "[[1 2 2 2]\n",
      " [1 1 1 2]\n",
      " [1 1 2 3]\n",
      " [1 1 1 2]\n",
      " [1 2 2 2]]\n",
      "-----------------------\n"
     ]
    }
   ],
   "source": [
    "#Apresentacao dos dados selecionados para o conjunto de treinamento e validacao\n",
    "print(\"-----------------------\")\n",
    "print(\"Conjunto de Treinamento\")\n",
    "print(x_treino)\n",
    "print(\"Conjunto de Validacao\")\n",
    "print(x_val)\n",
    "print(\"-----------------------\")"
   ]
  },
  {
   "cell_type": "code",
   "execution_count": 20,
   "id": "026c68dc",
   "metadata": {},
   "outputs": [
    {
     "name": "stdout",
     "output_type": "stream",
     "text": [
      "68.75% nos dados de treino\n",
      "31.25% nos dados de teste\n"
     ]
    }
   ],
   "source": [
    "# Imprimindo os resultados\n",
    "print(\"{0:0.2f}% nos dados de treino\".format((len(x_treino)/len(dados_mamiferos_treino.index)) * 100))\n",
    "print(\"{0:0.2f}% nos dados de teste\".format((len(x_val)/len(dados_mamiferos_treino.index)) * 100))"
   ]
  },
  {
   "cell_type": "code",
   "execution_count": 21,
   "id": "13fbd887",
   "metadata": {},
   "outputs": [],
   "source": [
    "#selecionando o modelo ML - Aplicando o Algoritmo com o Naive Bayes - GaussianNB."
   ]
  },
  {
   "cell_type": "code",
   "execution_count": 22,
   "id": "22049512",
   "metadata": {},
   "outputs": [
    {
     "data": {
      "text/plain": [
       "GaussianNB()"
      ]
     },
     "execution_count": 22,
     "metadata": {},
     "output_type": "execute_result"
    }
   ],
   "source": [
    "#Treinamento do modelo com os dados atribuidos ao conjunto de treinamento.GaussianNB()é o método construtor\n",
    "modelo_NB = GaussianNB()\n",
    "modelo_NB.fit(x_treino, y_treino)"
   ]
  },
  {
   "cell_type": "code",
   "execution_count": 23,
   "id": "13283a46",
   "metadata": {},
   "outputs": [
    {
     "name": "stdout",
     "output_type": "stream",
     "text": [
      "Predicao para o conjunto de treinamento\n",
      "Acuracia para o conjunto de treinamento\n",
      "0.9090909090909091\n",
      "Na Base de Treinamento\n"
     ]
    }
   ],
   "source": [
    "#Predição e acurácia para o conjunto de treinamento\n",
    "#metodo feat(): treina o modelo; método predict(): testa o modelo\n",
    "print(\"Predicao para o conjunto de treinamento\")\n",
    "y_pred_treino = modelo_NB.predict(x_treino)\n",
    "print(\"Acuracia para o conjunto de treinamento\")\n",
    "print(accuracy_score(y_treino, y_pred_treino))\n",
    "print(\"Na Base de Treinamento\")"
   ]
  },
  {
   "cell_type": "code",
   "execution_count": 24,
   "id": "0a981f91",
   "metadata": {},
   "outputs": [
    {
     "name": "stdout",
     "output_type": "stream",
     "text": [
      "Predicao para o conjunto de validacao\n",
      "Acuracia para o conjunto de validacao\n",
      "1.0\n",
      "na Base de Teste e ou Validação\n"
     ]
    }
   ],
   "source": [
    "#Predição e acurácia para o conjunto de validação\n",
    "#o professor mudou a acuracia(leva em consideração o todo) de teste anteriormente (35%) e a validação dele deu menor\n",
    "#eu não mudei por isso ficou 100%\n",
    "print(\"Predicao para o conjunto de validacao\")\n",
    "y_pred_val = modelo_NB.predict(x_val)\n",
    "print(\"Acuracia para o conjunto de validacao\")\n",
    "print(accuracy_score(y_val, y_pred_val))\n",
    "print(\"na Base de Teste e ou Validação\")"
   ]
  },
  {
   "cell_type": "code",
   "execution_count": 25,
   "id": "8446870c",
   "metadata": {},
   "outputs": [],
   "source": [
    "from sklearn import metrics"
   ]
  },
  {
   "cell_type": "code",
   "execution_count": 26,
   "id": "1fdc5885",
   "metadata": {},
   "outputs": [
    {
     "name": "stdout",
     "output_type": "stream",
     "text": [
      "Confusion Matrix\n",
      "[[2 0]\n",
      " [0 3]]\n",
      "\n",
      "Classification Report\n",
      "              precision    recall  f1-score   support\n",
      "\n",
      "           1       1.00      1.00      1.00         2\n",
      "           0       1.00      1.00      1.00         3\n",
      "\n",
      "    accuracy                           1.00         5\n",
      "   macro avg       1.00      1.00      1.00         5\n",
      "weighted avg       1.00      1.00      1.00         5\n",
      "\n"
     ]
    }
   ],
   "source": [
    "# Criando uma Confusion Matrix\n",
    "print(\"Confusion Matrix\")\n",
    "\n",
    "print(\"{0}\".format(metrics.confusion_matrix(y_val, y_pred_val, labels = [1, 0])))\n",
    "print(\"\")\n",
    "\n",
    "print(\"Classification Report\")\n",
    "print(metrics.classification_report(y_val, y_pred_val, labels = [1, 0]))"
   ]
  },
  {
   "cell_type": "code",
   "execution_count": null,
   "id": "22cfe317",
   "metadata": {},
   "outputs": [],
   "source": []
  }
 ],
 "metadata": {
  "kernelspec": {
   "display_name": "Python 3 (ipykernel)",
   "language": "python",
   "name": "python3"
  },
  "language_info": {
   "codemirror_mode": {
    "name": "ipython",
    "version": 3
   },
   "file_extension": ".py",
   "mimetype": "text/x-python",
   "name": "python",
   "nbconvert_exporter": "python",
   "pygments_lexer": "ipython3",
   "version": "3.9.13"
  }
 },
 "nbformat": 4,
 "nbformat_minor": 5
}
