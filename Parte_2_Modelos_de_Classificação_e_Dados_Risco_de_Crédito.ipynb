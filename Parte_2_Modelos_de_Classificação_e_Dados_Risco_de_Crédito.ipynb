{
  "nbformat": 4,
  "nbformat_minor": 0,
  "metadata": {
    "colab": {
      "provenance": [],
      "authorship_tag": "ABX9TyNmMM9+TskzGfvat5kVpfr3",
      "include_colab_link": true
    },
    "kernelspec": {
      "name": "python3",
      "display_name": "Python 3"
    },
    "language_info": {
      "name": "python"
    }
  },
  "cells": [
    {
      "cell_type": "markdown",
      "metadata": {
        "id": "view-in-github",
        "colab_type": "text"
      },
      "source": [
        "<a href=\"https://colab.research.google.com/github/hallinearaujo/aula02MachineLearning/blob/main/Parte_2_Modelos_de_Classifica%C3%A7%C3%A3o_e_Dados_Risco_de_Cr%C3%A9dito.ipynb\" target=\"_parent\"><img src=\"https://colab.research.google.com/assets/colab-badge.svg\" alt=\"Open In Colab\"/></a>"
      ]
    },
    {
      "cell_type": "code",
      "execution_count": 2,
      "metadata": {
        "id": "agDW3NlfBVzG"
      },
      "outputs": [],
      "source": [
        "# AV1 PARTE 2: Modelos de Classificação e Dados - DataSet credit_risk\n",
        "# Autor: Halline Araújo\n",
        "# Data: 23/04/2023"
      ]
    },
    {
      "cell_type": "code",
      "source": [
        "#Conjunto de importacoes\n",
        "import numpy as np\n",
        "import pandas as pd\n",
        "import matplotlib.pyplot as plt\n",
        "from sklearn.naive_bayes import MultinomialNB\n",
        "from sklearn.naive_bayes import GaussianNB\n",
        "from sklearn.metrics import accuracy_score\n",
        "from sklearn.model_selection import train_test_split"
      ],
      "metadata": {
        "id": "uvG7InSXBx-4"
      },
      "execution_count": 1,
      "outputs": []
    },
    {
      "cell_type": "code",
      "source": [
        "#Carrega o dataset com os dados para o treinamento e validacao\n",
        "risco_de_credito= pd.read_csv(\"credit_risk_dataset.csv\", encoding=\"utf-8\")"
      ],
      "metadata": {
        "id": "DGyHejvaCZqg"
      },
      "execution_count": 4,
      "outputs": []
    },
    {
      "cell_type": "code",
      "source": [
        "#Definição dos atributos que deverao ser treinados para gerar o modelo de classificacao:\n",
        "#idade (person_age), renda (person_income), renda percentual do emprestimo (loan_percent_income), história de crédito (cb_person_cred_hist_length)\n",
        "data_treino = np.array(risco_de_credito[['person_age', 'person_income', 'loan_percent_income', 'cb_person_cred_hist_length']])\n",
        "#Definição do atributo de classificacao\n",
        "data_classif = np.array(risco_de_credito['loan_status'])"
      ],
      "metadata": {
        "id": "9lt6RM2oD03S"
      },
      "execution_count": 84,
      "outputs": []
    },
    {
      "cell_type": "code",
      "source": [
        "# Verificando o formato dos dados\n",
        "risco_de_credito.shape"
      ],
      "metadata": {
        "colab": {
          "base_uri": "https://localhost:8080/"
        },
        "id": "XULiBpUAF5G4",
        "outputId": "84b49293-8a41-406c-fcb1-93358f2aaa1c"
      },
      "execution_count": 85,
      "outputs": [
        {
          "output_type": "execute_result",
          "data": {
            "text/plain": [
              "(32581, 12)"
            ]
          },
          "metadata": {},
          "execution_count": 85
        }
      ]
    },
    {
      "cell_type": "code",
      "source": [
        "# Verificando as primeiras linhas do dataset\n",
        "risco_de_credito.head(10)"
      ],
      "metadata": {
        "colab": {
          "base_uri": "https://localhost:8080/",
          "height": 427
        },
        "id": "i5kkFQzVJU2Q",
        "outputId": "10c81b15-67c7-4f8c-b6d9-513a8e4f06d8"
      },
      "execution_count": 86,
      "outputs": [
        {
          "output_type": "execute_result",
          "data": {
            "text/plain": [
              "   person_age  person_income person_home_ownership  person_emp_length  \\\n",
              "0          22          59000                  RENT              123.0   \n",
              "1          21           9600                   OWN                5.0   \n",
              "2          25           9600              MORTGAGE                1.0   \n",
              "3          23          65500                  RENT                4.0   \n",
              "4          24          54400                  RENT                8.0   \n",
              "5          21           9900                   OWN                2.0   \n",
              "6          26          77100                  RENT                8.0   \n",
              "7          24          78956                  RENT                5.0   \n",
              "8          24          83000                  RENT                8.0   \n",
              "9          21          10000                   OWN                6.0   \n",
              "\n",
              "  loan_intent loan_grade  loan_amnt  loan_int_rate  loan_status  \\\n",
              "0    PERSONAL          D      35000          16.02            1   \n",
              "1   EDUCATION          B       1000          11.14            0   \n",
              "2     MEDICAL          C       5500          12.87            1   \n",
              "3     MEDICAL          C      35000          15.23            1   \n",
              "4     MEDICAL          C      35000          14.27            1   \n",
              "5     VENTURE          A       2500           7.14            1   \n",
              "6   EDUCATION          B      35000          12.42            1   \n",
              "7     MEDICAL          B      35000          11.11            1   \n",
              "8    PERSONAL          A      35000           8.90            1   \n",
              "9     VENTURE          D       1600          14.74            1   \n",
              "\n",
              "   loan_percent_income cb_person_default_on_file  cb_person_cred_hist_length  \n",
              "0                 0.59                         Y                           3  \n",
              "1                 0.10                         N                           2  \n",
              "2                 0.57                         N                           3  \n",
              "3                 0.53                         N                           2  \n",
              "4                 0.55                         Y                           4  \n",
              "5                 0.25                         N                           2  \n",
              "6                 0.45                         N                           3  \n",
              "7                 0.44                         N                           4  \n",
              "8                 0.42                         N                           2  \n",
              "9                 0.16                         N                           3  "
            ],
            "text/html": [
              "\n",
              "  <div id=\"df-22f75b4c-3013-46fe-ad92-9734d6ff7e06\">\n",
              "    <div class=\"colab-df-container\">\n",
              "      <div>\n",
              "<style scoped>\n",
              "    .dataframe tbody tr th:only-of-type {\n",
              "        vertical-align: middle;\n",
              "    }\n",
              "\n",
              "    .dataframe tbody tr th {\n",
              "        vertical-align: top;\n",
              "    }\n",
              "\n",
              "    .dataframe thead th {\n",
              "        text-align: right;\n",
              "    }\n",
              "</style>\n",
              "<table border=\"1\" class=\"dataframe\">\n",
              "  <thead>\n",
              "    <tr style=\"text-align: right;\">\n",
              "      <th></th>\n",
              "      <th>person_age</th>\n",
              "      <th>person_income</th>\n",
              "      <th>person_home_ownership</th>\n",
              "      <th>person_emp_length</th>\n",
              "      <th>loan_intent</th>\n",
              "      <th>loan_grade</th>\n",
              "      <th>loan_amnt</th>\n",
              "      <th>loan_int_rate</th>\n",
              "      <th>loan_status</th>\n",
              "      <th>loan_percent_income</th>\n",
              "      <th>cb_person_default_on_file</th>\n",
              "      <th>cb_person_cred_hist_length</th>\n",
              "    </tr>\n",
              "  </thead>\n",
              "  <tbody>\n",
              "    <tr>\n",
              "      <th>0</th>\n",
              "      <td>22</td>\n",
              "      <td>59000</td>\n",
              "      <td>RENT</td>\n",
              "      <td>123.0</td>\n",
              "      <td>PERSONAL</td>\n",
              "      <td>D</td>\n",
              "      <td>35000</td>\n",
              "      <td>16.02</td>\n",
              "      <td>1</td>\n",
              "      <td>0.59</td>\n",
              "      <td>Y</td>\n",
              "      <td>3</td>\n",
              "    </tr>\n",
              "    <tr>\n",
              "      <th>1</th>\n",
              "      <td>21</td>\n",
              "      <td>9600</td>\n",
              "      <td>OWN</td>\n",
              "      <td>5.0</td>\n",
              "      <td>EDUCATION</td>\n",
              "      <td>B</td>\n",
              "      <td>1000</td>\n",
              "      <td>11.14</td>\n",
              "      <td>0</td>\n",
              "      <td>0.10</td>\n",
              "      <td>N</td>\n",
              "      <td>2</td>\n",
              "    </tr>\n",
              "    <tr>\n",
              "      <th>2</th>\n",
              "      <td>25</td>\n",
              "      <td>9600</td>\n",
              "      <td>MORTGAGE</td>\n",
              "      <td>1.0</td>\n",
              "      <td>MEDICAL</td>\n",
              "      <td>C</td>\n",
              "      <td>5500</td>\n",
              "      <td>12.87</td>\n",
              "      <td>1</td>\n",
              "      <td>0.57</td>\n",
              "      <td>N</td>\n",
              "      <td>3</td>\n",
              "    </tr>\n",
              "    <tr>\n",
              "      <th>3</th>\n",
              "      <td>23</td>\n",
              "      <td>65500</td>\n",
              "      <td>RENT</td>\n",
              "      <td>4.0</td>\n",
              "      <td>MEDICAL</td>\n",
              "      <td>C</td>\n",
              "      <td>35000</td>\n",
              "      <td>15.23</td>\n",
              "      <td>1</td>\n",
              "      <td>0.53</td>\n",
              "      <td>N</td>\n",
              "      <td>2</td>\n",
              "    </tr>\n",
              "    <tr>\n",
              "      <th>4</th>\n",
              "      <td>24</td>\n",
              "      <td>54400</td>\n",
              "      <td>RENT</td>\n",
              "      <td>8.0</td>\n",
              "      <td>MEDICAL</td>\n",
              "      <td>C</td>\n",
              "      <td>35000</td>\n",
              "      <td>14.27</td>\n",
              "      <td>1</td>\n",
              "      <td>0.55</td>\n",
              "      <td>Y</td>\n",
              "      <td>4</td>\n",
              "    </tr>\n",
              "    <tr>\n",
              "      <th>5</th>\n",
              "      <td>21</td>\n",
              "      <td>9900</td>\n",
              "      <td>OWN</td>\n",
              "      <td>2.0</td>\n",
              "      <td>VENTURE</td>\n",
              "      <td>A</td>\n",
              "      <td>2500</td>\n",
              "      <td>7.14</td>\n",
              "      <td>1</td>\n",
              "      <td>0.25</td>\n",
              "      <td>N</td>\n",
              "      <td>2</td>\n",
              "    </tr>\n",
              "    <tr>\n",
              "      <th>6</th>\n",
              "      <td>26</td>\n",
              "      <td>77100</td>\n",
              "      <td>RENT</td>\n",
              "      <td>8.0</td>\n",
              "      <td>EDUCATION</td>\n",
              "      <td>B</td>\n",
              "      <td>35000</td>\n",
              "      <td>12.42</td>\n",
              "      <td>1</td>\n",
              "      <td>0.45</td>\n",
              "      <td>N</td>\n",
              "      <td>3</td>\n",
              "    </tr>\n",
              "    <tr>\n",
              "      <th>7</th>\n",
              "      <td>24</td>\n",
              "      <td>78956</td>\n",
              "      <td>RENT</td>\n",
              "      <td>5.0</td>\n",
              "      <td>MEDICAL</td>\n",
              "      <td>B</td>\n",
              "      <td>35000</td>\n",
              "      <td>11.11</td>\n",
              "      <td>1</td>\n",
              "      <td>0.44</td>\n",
              "      <td>N</td>\n",
              "      <td>4</td>\n",
              "    </tr>\n",
              "    <tr>\n",
              "      <th>8</th>\n",
              "      <td>24</td>\n",
              "      <td>83000</td>\n",
              "      <td>RENT</td>\n",
              "      <td>8.0</td>\n",
              "      <td>PERSONAL</td>\n",
              "      <td>A</td>\n",
              "      <td>35000</td>\n",
              "      <td>8.90</td>\n",
              "      <td>1</td>\n",
              "      <td>0.42</td>\n",
              "      <td>N</td>\n",
              "      <td>2</td>\n",
              "    </tr>\n",
              "    <tr>\n",
              "      <th>9</th>\n",
              "      <td>21</td>\n",
              "      <td>10000</td>\n",
              "      <td>OWN</td>\n",
              "      <td>6.0</td>\n",
              "      <td>VENTURE</td>\n",
              "      <td>D</td>\n",
              "      <td>1600</td>\n",
              "      <td>14.74</td>\n",
              "      <td>1</td>\n",
              "      <td>0.16</td>\n",
              "      <td>N</td>\n",
              "      <td>3</td>\n",
              "    </tr>\n",
              "  </tbody>\n",
              "</table>\n",
              "</div>\n",
              "      <button class=\"colab-df-convert\" onclick=\"convertToInteractive('df-22f75b4c-3013-46fe-ad92-9734d6ff7e06')\"\n",
              "              title=\"Convert this dataframe to an interactive table.\"\n",
              "              style=\"display:none;\">\n",
              "        \n",
              "  <svg xmlns=\"http://www.w3.org/2000/svg\" height=\"24px\"viewBox=\"0 0 24 24\"\n",
              "       width=\"24px\">\n",
              "    <path d=\"M0 0h24v24H0V0z\" fill=\"none\"/>\n",
              "    <path d=\"M18.56 5.44l.94 2.06.94-2.06 2.06-.94-2.06-.94-.94-2.06-.94 2.06-2.06.94zm-11 1L8.5 8.5l.94-2.06 2.06-.94-2.06-.94L8.5 2.5l-.94 2.06-2.06.94zm10 10l.94 2.06.94-2.06 2.06-.94-2.06-.94-.94-2.06-.94 2.06-2.06.94z\"/><path d=\"M17.41 7.96l-1.37-1.37c-.4-.4-.92-.59-1.43-.59-.52 0-1.04.2-1.43.59L10.3 9.45l-7.72 7.72c-.78.78-.78 2.05 0 2.83L4 21.41c.39.39.9.59 1.41.59.51 0 1.02-.2 1.41-.59l7.78-7.78 2.81-2.81c.8-.78.8-2.07 0-2.86zM5.41 20L4 18.59l7.72-7.72 1.47 1.35L5.41 20z\"/>\n",
              "  </svg>\n",
              "      </button>\n",
              "      \n",
              "  <style>\n",
              "    .colab-df-container {\n",
              "      display:flex;\n",
              "      flex-wrap:wrap;\n",
              "      gap: 12px;\n",
              "    }\n",
              "\n",
              "    .colab-df-convert {\n",
              "      background-color: #E8F0FE;\n",
              "      border: none;\n",
              "      border-radius: 50%;\n",
              "      cursor: pointer;\n",
              "      display: none;\n",
              "      fill: #1967D2;\n",
              "      height: 32px;\n",
              "      padding: 0 0 0 0;\n",
              "      width: 32px;\n",
              "    }\n",
              "\n",
              "    .colab-df-convert:hover {\n",
              "      background-color: #E2EBFA;\n",
              "      box-shadow: 0px 1px 2px rgba(60, 64, 67, 0.3), 0px 1px 3px 1px rgba(60, 64, 67, 0.15);\n",
              "      fill: #174EA6;\n",
              "    }\n",
              "\n",
              "    [theme=dark] .colab-df-convert {\n",
              "      background-color: #3B4455;\n",
              "      fill: #D2E3FC;\n",
              "    }\n",
              "\n",
              "    [theme=dark] .colab-df-convert:hover {\n",
              "      background-color: #434B5C;\n",
              "      box-shadow: 0px 1px 3px 1px rgba(0, 0, 0, 0.15);\n",
              "      filter: drop-shadow(0px 1px 2px rgba(0, 0, 0, 0.3));\n",
              "      fill: #FFFFFF;\n",
              "    }\n",
              "  </style>\n",
              "\n",
              "      <script>\n",
              "        const buttonEl =\n",
              "          document.querySelector('#df-22f75b4c-3013-46fe-ad92-9734d6ff7e06 button.colab-df-convert');\n",
              "        buttonEl.style.display =\n",
              "          google.colab.kernel.accessAllowed ? 'block' : 'none';\n",
              "\n",
              "        async function convertToInteractive(key) {\n",
              "          const element = document.querySelector('#df-22f75b4c-3013-46fe-ad92-9734d6ff7e06');\n",
              "          const dataTable =\n",
              "            await google.colab.kernel.invokeFunction('convertToInteractive',\n",
              "                                                     [key], {});\n",
              "          if (!dataTable) return;\n",
              "\n",
              "          const docLinkHtml = 'Like what you see? Visit the ' +\n",
              "            '<a target=\"_blank\" href=https://colab.research.google.com/notebooks/data_table.ipynb>data table notebook</a>'\n",
              "            + ' to learn more about interactive tables.';\n",
              "          element.innerHTML = '';\n",
              "          dataTable['output_type'] = 'display_data';\n",
              "          await google.colab.output.renderOutput(dataTable, element);\n",
              "          const docLink = document.createElement('div');\n",
              "          docLink.innerHTML = docLinkHtml;\n",
              "          element.appendChild(docLink);\n",
              "        }\n",
              "      </script>\n",
              "    </div>\n",
              "  </div>\n",
              "  "
            ]
          },
          "metadata": {},
          "execution_count": 86
        }
      ]
    },
    {
      "cell_type": "code",
      "source": [
        "# Verificando as últimas linhas do dataset\n",
        "risco_de_credito.tail(5)"
      ],
      "metadata": {
        "colab": {
          "base_uri": "https://localhost:8080/",
          "height": 270
        },
        "id": "vetV6zCpJb6a",
        "outputId": "b64d12b7-ec1b-478d-a3c7-a90b60be151c"
      },
      "execution_count": 87,
      "outputs": [
        {
          "output_type": "execute_result",
          "data": {
            "text/plain": [
              "       person_age  person_income person_home_ownership  person_emp_length  \\\n",
              "32576          57          53000              MORTGAGE                1.0   \n",
              "32577          54         120000              MORTGAGE                4.0   \n",
              "32578          65          76000                  RENT                3.0   \n",
              "32579          56         150000              MORTGAGE                5.0   \n",
              "32580          66          42000                  RENT                2.0   \n",
              "\n",
              "           loan_intent loan_grade  loan_amnt  loan_int_rate  loan_status  \\\n",
              "32576         PERSONAL          C       5800          13.16            0   \n",
              "32577         PERSONAL          A      17625           7.49            0   \n",
              "32578  HOMEIMPROVEMENT          B      35000          10.99            1   \n",
              "32579         PERSONAL          B      15000          11.48            0   \n",
              "32580          MEDICAL          B       6475           9.99            0   \n",
              "\n",
              "       loan_percent_income cb_person_default_on_file  \\\n",
              "32576                 0.11                         N   \n",
              "32577                 0.15                         N   \n",
              "32578                 0.46                         N   \n",
              "32579                 0.10                         N   \n",
              "32580                 0.15                         N   \n",
              "\n",
              "       cb_person_cred_hist_length  \n",
              "32576                          30  \n",
              "32577                          19  \n",
              "32578                          28  \n",
              "32579                          26  \n",
              "32580                          30  "
            ],
            "text/html": [
              "\n",
              "  <div id=\"df-fd49ec14-2acc-48b8-a772-55017eec26d2\">\n",
              "    <div class=\"colab-df-container\">\n",
              "      <div>\n",
              "<style scoped>\n",
              "    .dataframe tbody tr th:only-of-type {\n",
              "        vertical-align: middle;\n",
              "    }\n",
              "\n",
              "    .dataframe tbody tr th {\n",
              "        vertical-align: top;\n",
              "    }\n",
              "\n",
              "    .dataframe thead th {\n",
              "        text-align: right;\n",
              "    }\n",
              "</style>\n",
              "<table border=\"1\" class=\"dataframe\">\n",
              "  <thead>\n",
              "    <tr style=\"text-align: right;\">\n",
              "      <th></th>\n",
              "      <th>person_age</th>\n",
              "      <th>person_income</th>\n",
              "      <th>person_home_ownership</th>\n",
              "      <th>person_emp_length</th>\n",
              "      <th>loan_intent</th>\n",
              "      <th>loan_grade</th>\n",
              "      <th>loan_amnt</th>\n",
              "      <th>loan_int_rate</th>\n",
              "      <th>loan_status</th>\n",
              "      <th>loan_percent_income</th>\n",
              "      <th>cb_person_default_on_file</th>\n",
              "      <th>cb_person_cred_hist_length</th>\n",
              "    </tr>\n",
              "  </thead>\n",
              "  <tbody>\n",
              "    <tr>\n",
              "      <th>32576</th>\n",
              "      <td>57</td>\n",
              "      <td>53000</td>\n",
              "      <td>MORTGAGE</td>\n",
              "      <td>1.0</td>\n",
              "      <td>PERSONAL</td>\n",
              "      <td>C</td>\n",
              "      <td>5800</td>\n",
              "      <td>13.16</td>\n",
              "      <td>0</td>\n",
              "      <td>0.11</td>\n",
              "      <td>N</td>\n",
              "      <td>30</td>\n",
              "    </tr>\n",
              "    <tr>\n",
              "      <th>32577</th>\n",
              "      <td>54</td>\n",
              "      <td>120000</td>\n",
              "      <td>MORTGAGE</td>\n",
              "      <td>4.0</td>\n",
              "      <td>PERSONAL</td>\n",
              "      <td>A</td>\n",
              "      <td>17625</td>\n",
              "      <td>7.49</td>\n",
              "      <td>0</td>\n",
              "      <td>0.15</td>\n",
              "      <td>N</td>\n",
              "      <td>19</td>\n",
              "    </tr>\n",
              "    <tr>\n",
              "      <th>32578</th>\n",
              "      <td>65</td>\n",
              "      <td>76000</td>\n",
              "      <td>RENT</td>\n",
              "      <td>3.0</td>\n",
              "      <td>HOMEIMPROVEMENT</td>\n",
              "      <td>B</td>\n",
              "      <td>35000</td>\n",
              "      <td>10.99</td>\n",
              "      <td>1</td>\n",
              "      <td>0.46</td>\n",
              "      <td>N</td>\n",
              "      <td>28</td>\n",
              "    </tr>\n",
              "    <tr>\n",
              "      <th>32579</th>\n",
              "      <td>56</td>\n",
              "      <td>150000</td>\n",
              "      <td>MORTGAGE</td>\n",
              "      <td>5.0</td>\n",
              "      <td>PERSONAL</td>\n",
              "      <td>B</td>\n",
              "      <td>15000</td>\n",
              "      <td>11.48</td>\n",
              "      <td>0</td>\n",
              "      <td>0.10</td>\n",
              "      <td>N</td>\n",
              "      <td>26</td>\n",
              "    </tr>\n",
              "    <tr>\n",
              "      <th>32580</th>\n",
              "      <td>66</td>\n",
              "      <td>42000</td>\n",
              "      <td>RENT</td>\n",
              "      <td>2.0</td>\n",
              "      <td>MEDICAL</td>\n",
              "      <td>B</td>\n",
              "      <td>6475</td>\n",
              "      <td>9.99</td>\n",
              "      <td>0</td>\n",
              "      <td>0.15</td>\n",
              "      <td>N</td>\n",
              "      <td>30</td>\n",
              "    </tr>\n",
              "  </tbody>\n",
              "</table>\n",
              "</div>\n",
              "      <button class=\"colab-df-convert\" onclick=\"convertToInteractive('df-fd49ec14-2acc-48b8-a772-55017eec26d2')\"\n",
              "              title=\"Convert this dataframe to an interactive table.\"\n",
              "              style=\"display:none;\">\n",
              "        \n",
              "  <svg xmlns=\"http://www.w3.org/2000/svg\" height=\"24px\"viewBox=\"0 0 24 24\"\n",
              "       width=\"24px\">\n",
              "    <path d=\"M0 0h24v24H0V0z\" fill=\"none\"/>\n",
              "    <path d=\"M18.56 5.44l.94 2.06.94-2.06 2.06-.94-2.06-.94-.94-2.06-.94 2.06-2.06.94zm-11 1L8.5 8.5l.94-2.06 2.06-.94-2.06-.94L8.5 2.5l-.94 2.06-2.06.94zm10 10l.94 2.06.94-2.06 2.06-.94-2.06-.94-.94-2.06-.94 2.06-2.06.94z\"/><path d=\"M17.41 7.96l-1.37-1.37c-.4-.4-.92-.59-1.43-.59-.52 0-1.04.2-1.43.59L10.3 9.45l-7.72 7.72c-.78.78-.78 2.05 0 2.83L4 21.41c.39.39.9.59 1.41.59.51 0 1.02-.2 1.41-.59l7.78-7.78 2.81-2.81c.8-.78.8-2.07 0-2.86zM5.41 20L4 18.59l7.72-7.72 1.47 1.35L5.41 20z\"/>\n",
              "  </svg>\n",
              "      </button>\n",
              "      \n",
              "  <style>\n",
              "    .colab-df-container {\n",
              "      display:flex;\n",
              "      flex-wrap:wrap;\n",
              "      gap: 12px;\n",
              "    }\n",
              "\n",
              "    .colab-df-convert {\n",
              "      background-color: #E8F0FE;\n",
              "      border: none;\n",
              "      border-radius: 50%;\n",
              "      cursor: pointer;\n",
              "      display: none;\n",
              "      fill: #1967D2;\n",
              "      height: 32px;\n",
              "      padding: 0 0 0 0;\n",
              "      width: 32px;\n",
              "    }\n",
              "\n",
              "    .colab-df-convert:hover {\n",
              "      background-color: #E2EBFA;\n",
              "      box-shadow: 0px 1px 2px rgba(60, 64, 67, 0.3), 0px 1px 3px 1px rgba(60, 64, 67, 0.15);\n",
              "      fill: #174EA6;\n",
              "    }\n",
              "\n",
              "    [theme=dark] .colab-df-convert {\n",
              "      background-color: #3B4455;\n",
              "      fill: #D2E3FC;\n",
              "    }\n",
              "\n",
              "    [theme=dark] .colab-df-convert:hover {\n",
              "      background-color: #434B5C;\n",
              "      box-shadow: 0px 1px 3px 1px rgba(0, 0, 0, 0.15);\n",
              "      filter: drop-shadow(0px 1px 2px rgba(0, 0, 0, 0.3));\n",
              "      fill: #FFFFFF;\n",
              "    }\n",
              "  </style>\n",
              "\n",
              "      <script>\n",
              "        const buttonEl =\n",
              "          document.querySelector('#df-fd49ec14-2acc-48b8-a772-55017eec26d2 button.colab-df-convert');\n",
              "        buttonEl.style.display =\n",
              "          google.colab.kernel.accessAllowed ? 'block' : 'none';\n",
              "\n",
              "        async function convertToInteractive(key) {\n",
              "          const element = document.querySelector('#df-fd49ec14-2acc-48b8-a772-55017eec26d2');\n",
              "          const dataTable =\n",
              "            await google.colab.kernel.invokeFunction('convertToInteractive',\n",
              "                                                     [key], {});\n",
              "          if (!dataTable) return;\n",
              "\n",
              "          const docLinkHtml = 'Like what you see? Visit the ' +\n",
              "            '<a target=\"_blank\" href=https://colab.research.google.com/notebooks/data_table.ipynb>data table notebook</a>'\n",
              "            + ' to learn more about interactive tables.';\n",
              "          element.innerHTML = '';\n",
              "          dataTable['output_type'] = 'display_data';\n",
              "          await google.colab.output.renderOutput(dataTable, element);\n",
              "          const docLink = document.createElement('div');\n",
              "          docLink.innerHTML = docLinkHtml;\n",
              "          element.appendChild(docLink);\n",
              "        }\n",
              "      </script>\n",
              "    </div>\n",
              "  </div>\n",
              "  "
            ]
          },
          "metadata": {},
          "execution_count": 87
        }
      ]
    },
    {
      "cell_type": "code",
      "source": [
        "# Identificando a correlação entre as variáveis (Correlação não implica causalidade)\n",
        "def plot_corr(risco_de_credito, size=10):\n",
        "    corr = risco_de_credito.corr()    \n",
        "    fig, ax = plt.subplots(figsize = (size, size))\n",
        "    ax.matshow(corr)  \n",
        "    plt.xticks(range(len(corr.columns)), corr.columns) \n",
        "    plt.yticks(range(len(corr.columns)), corr.columns) "
      ],
      "metadata": {
        "id": "UP4-tqaiJ-Vu"
      },
      "execution_count": 88,
      "outputs": []
    },
    {
      "cell_type": "code",
      "source": [
        "# Criando o gráfico\n",
        "plot_corr(risco_de_credito)"
      ],
      "metadata": {
        "colab": {
          "base_uri": "https://localhost:8080/",
          "height": 885
        },
        "id": "GUzft87cKNHH",
        "outputId": "a500b35d-23cd-4884-f165-ac4b6a165cf0"
      },
      "execution_count": 89,
      "outputs": [
        {
          "output_type": "stream",
          "name": "stderr",
          "text": [
            "<ipython-input-88-2ddc2cea602b>:3: FutureWarning: The default value of numeric_only in DataFrame.corr is deprecated. In a future version, it will default to False. Select only valid columns or specify the value of numeric_only to silence this warning.\n",
            "  corr = risco_de_credito.corr()\n"
          ]
        },
        {
          "output_type": "display_data",
          "data": {
            "text/plain": [
              "<Figure size 1000x1000 with 1 Axes>"
            ],
            "image/png": "[encoded data removed]"
          },
          "metadata": {}
        }
      ]
    },
    {
      "cell_type": "code",
      "source": [
        "# Spliting = 70% para dados de treino e 30% para dados de teste\n",
        "#Definição dos conjuntos de treinamento e validação\n",
        "x_treino, x_val, y_treino, y_val = train_test_split(data_treino, data_classif, test_size=0.30)"
      ],
      "metadata": {
        "id": "ZD6T643LKR6w"
      },
      "execution_count": 90,
      "outputs": []
    },
    {
      "cell_type": "code",
      "source": [
        "#Apresentacao dos dados selecionados para o conjunto de treinamento e validacao\n",
        "print(\"-----------------------\")\n",
        "print(\"Conjunto de Treinamento\")\n",
        "print(x_treino)\n",
        "print(\"Conjunto de Validacao\")\n",
        "print(x_val)\n",
        "print(\"-----------------------\")"
      ],
      "metadata": {
        "colab": {
          "base_uri": "https://localhost:8080/"
        },
        "id": "1G4WMgSPKqmh",
        "outputId": "a3e8a038-dfc7-4667-c508-01a4bb319bec"
      },
      "execution_count": 91,
      "outputs": [
        {
          "output_type": "stream",
          "name": "stdout",
          "text": [
            "-----------------------\n",
            "Conjunto de Treinamento\n",
            "[[2.9000e+01 2.9496e+04 2.0000e-01 8.0000e+00]\n",
            " [2.3000e+01 8.6500e+04 1.6000e-01 3.0000e+00]\n",
            " [2.6000e+01 1.4400e+05 8.0000e-02 3.0000e+00]\n",
            " ...\n",
            " [2.4000e+01 1.0000e+05 7.0000e-02 3.0000e+00]\n",
            " [2.5000e+01 4.9244e+04 1.6000e-01 3.0000e+00]\n",
            " [2.6000e+01 5.8900e+04 1.1000e-01 3.0000e+00]]\n",
            "Conjunto de Validacao\n",
            "[[2.800e+01 1.440e+05 2.100e-01 5.000e+00]\n",
            " [2.400e+01 6.500e+04 2.200e-01 4.000e+00]\n",
            " [2.200e+01 3.456e+04 6.000e-02 3.000e+00]\n",
            " ...\n",
            " [3.100e+01 3.500e+04 1.700e-01 7.000e+00]\n",
            " [2.400e+01 4.200e+04 1.700e-01 3.000e+00]\n",
            " [2.200e+01 3.600e+04 1.400e-01 4.000e+00]]\n",
            "-----------------------\n"
          ]
        }
      ]
    },
    {
      "cell_type": "code",
      "source": [
        "# Imprimindo os resultados\n",
        "print(\"{0:0.2f}% nos dados de treino\".format((len(x_treino)/len(risco_de_credito.index)) * 100))\n",
        "print(\"{0:0.2f}% nos dados de teste\".format((len(x_val)/len(risco_de_credito.index)) * 100))"
      ],
      "metadata": {
        "colab": {
          "base_uri": "https://localhost:8080/"
        },
        "id": "eXih7F5lKvYN",
        "outputId": "610b15e8-6dd1-46fc-ec44-07dad092881b"
      },
      "execution_count": 92,
      "outputs": [
        {
          "output_type": "stream",
          "name": "stdout",
          "text": [
            "70.00% nos dados de treino\n",
            "30.00% nos dados de teste\n"
          ]
        }
      ]
    },
    {
      "cell_type": "code",
      "source": [
        "# - Aplicando o Algoritmo com o Naive Bayes - GaussianNB.\n",
        "#Treinamento do modelo com os dados atribuidos ao conjunto de treinamento\n",
        "modelo_NB = GaussianNB()\n",
        "modelo_NB.fit(x_treino, y_treino)"
      ],
      "metadata": {
        "colab": {
          "base_uri": "https://localhost:8080/",
          "height": 75
        },
        "id": "Yz6e2C7cK527",
        "outputId": "638b8998-c2d2-4dd8-977d-5951abac32c7"
      },
      "execution_count": 93,
      "outputs": [
        {
          "output_type": "execute_result",
          "data": {
            "text/plain": [
              "GaussianNB()"
            ],
            "text/html": [
              "<style>#sk-container-id-5 {color: black;background-color: white;}#sk-container-id-5 pre{padding: 0;}#sk-container-id-5 div.sk-toggleable {background-color: white;}#sk-container-id-5 label.sk-toggleable__label {cursor: pointer;display: block;width: 100%;margin-bottom: 0;padding: 0.3em;box-sizing: border-box;text-align: center;}#sk-container-id-5 label.sk-toggleable__label-arrow:before {content: \"▸\";float: left;margin-right: 0.25em;color: #696969;}#sk-container-id-5 label.sk-toggleable__label-arrow:hover:before {color: black;}#sk-container-id-5 div.sk-estimator:hover label.sk-toggleable__label-arrow:before {color: black;}#sk-container-id-5 div.sk-toggleable__content {max-height: 0;max-width: 0;overflow: hidden;text-align: left;background-color: #f0f8ff;}#sk-container-id-5 div.sk-toggleable__content pre {margin: 0.2em;color: black;border-radius: 0.25em;background-color: #f0f8ff;}#sk-container-id-5 input.sk-toggleable__control:checked~div.sk-toggleable__content {max-height: 200px;max-width: 100%;overflow: auto;}#sk-container-id-5 input.sk-toggleable__control:checked~label.sk-toggleable__label-arrow:before {content: \"▾\";}#sk-container-id-5 div.sk-estimator input.sk-toggleable__control:checked~label.sk-toggleable__label {background-color: #d4ebff;}#sk-container-id-5 div.sk-label input.sk-toggleable__control:checked~label.sk-toggleable__label {background-color: #d4ebff;}#sk-container-id-5 input.sk-hidden--visually {border: 0;clip: rect(1px 1px 1px 1px);clip: rect(1px, 1px, 1px, 1px);height: 1px;margin: -1px;overflow: hidden;padding: 0;position: absolute;width: 1px;}#sk-container-id-5 div.sk-estimator {font-family: monospace;background-color: #f0f8ff;border: 1px dotted black;border-radius: 0.25em;box-sizing: border-box;margin-bottom: 0.5em;}#sk-container-id-5 div.sk-estimator:hover {background-color: #d4ebff;}#sk-container-id-5 div.sk-parallel-item::after {content: \"\";width: 100%;border-bottom: 1px solid gray;flex-grow: 1;}#sk-container-id-5 div.sk-label:hover label.sk-toggleable__label {background-color: #d4ebff;}#sk-container-id-5 div.sk-serial::before {content: \"\";position: absolute;border-left: 1px solid gray;box-sizing: border-box;top: 0;bottom: 0;left: 50%;z-index: 0;}#sk-container-id-5 div.sk-serial {display: flex;flex-direction: column;align-items: center;background-color: white;padding-right: 0.2em;padding-left: 0.2em;position: relative;}#sk-container-id-5 div.sk-item {position: relative;z-index: 1;}#sk-container-id-5 div.sk-parallel {display: flex;align-items: stretch;justify-content: center;background-color: white;position: relative;}#sk-container-id-5 div.sk-item::before, #sk-container-id-5 div.sk-parallel-item::before {content: \"\";position: absolute;border-left: 1px solid gray;box-sizing: border-box;top: 0;bottom: 0;left: 50%;z-index: -1;}#sk-container-id-5 div.sk-parallel-item {display: flex;flex-direction: column;z-index: 1;position: relative;background-color: white;}#sk-container-id-5 div.sk-parallel-item:first-child::after {align-self: flex-end;width: 50%;}#sk-container-id-5 div.sk-parallel-item:last-child::after {align-self: flex-start;width: 50%;}#sk-container-id-5 div.sk-parallel-item:only-child::after {width: 0;}#sk-container-id-5 div.sk-dashed-wrapped {border: 1px dashed gray;margin: 0 0.4em 0.5em 0.4em;box-sizing: border-box;padding-bottom: 0.4em;background-color: white;}#sk-container-id-5 div.sk-label label {font-family: monospace;font-weight: bold;display: inline-block;line-height: 1.2em;}#sk-container-id-5 div.sk-label-container {text-align: center;}#sk-container-id-5 div.sk-container {/* jupyter's `normalize.less` sets `[hidden] { display: none; }` but bootstrap.min.css set `[hidden] { display: none !important; }` so we also need the `!important` here to be able to override the default hidden behavior on the sphinx rendered scikit-learn.org. See: https://github.com/scikit-learn/scikit-learn/issues/21755 */display: inline-block !important;position: relative;}#sk-container-id-5 div.sk-text-repr-fallback {display: none;}</style><div id=\"sk-container-id-5\" class=\"sk-top-container\"><div class=\"sk-text-repr-fallback\"><pre>GaussianNB()</pre><b>In a Jupyter environment, please rerun this cell to show the HTML representation or trust the notebook. <br />On GitHub, the HTML representation is unable to render, please try loading this page with nbviewer.org.</b></div><div class=\"sk-container\" hidden><div class=\"sk-item\"><div class=\"sk-estimator sk-toggleable\"><input class=\"sk-toggleable__control sk-hidden--visually\" id=\"sk-estimator-id-5\" type=\"checkbox\" checked><label for=\"sk-estimator-id-5\" class=\"sk-toggleable__label sk-toggleable__label-arrow\">GaussianNB</label><div class=\"sk-toggleable__content\"><pre>GaussianNB()</pre></div></div></div></div></div>"
            ]
          },
          "metadata": {},
          "execution_count": 93
        }
      ]
    },
    {
      "cell_type": "code",
      "source": [
        "#Predição e acurácia para o conjunto de treinamento\n",
        "print(\"Predicao para o conjunto de treinamento\")\n",
        "y_pred_treino = modelo_NB.predict(x_treino)\n",
        "print(\"Acuracia para o conjunto de treinamento\")\n",
        "print(accuracy_score(y_treino, y_pred_treino))\n",
        "print(\"Na Base de Treinamento\")"
      ],
      "metadata": {
        "colab": {
          "base_uri": "https://localhost:8080/"
        },
        "id": "VqgQnpGALVkr",
        "outputId": "eedd07ec-0ae2-4525-cadf-28b1d615318e"
      },
      "execution_count": 94,
      "outputs": [
        {
          "output_type": "stream",
          "name": "stdout",
          "text": [
            "Predicao para o conjunto de treinamento\n",
            "Acuracia para o conjunto de treinamento\n",
            "0.7835218802069631\n",
            "Na Base de Treinamento\n"
          ]
        }
      ]
    },
    {
      "cell_type": "code",
      "source": [
        "#Predição e acurácia para o conjunto de validação\n",
        "print(\"Predicao para o conjunto de validacao\")\n",
        "y_pred_val = modelo_NB.predict(x_val)\n",
        "print(\"Acuracia para o conjunto de validacao\")\n",
        "print(accuracy_score(y_val, y_pred_val))\n",
        "print(\"na Base de Teste e ou Validação\")"
      ],
      "metadata": {
        "colab": {
          "base_uri": "https://localhost:8080/"
        },
        "id": "KRG13eXgNh9K",
        "outputId": "61f948f0-bae3-42cc-ffd9-8e03c2c52c1c"
      },
      "execution_count": 95,
      "outputs": [
        {
          "output_type": "stream",
          "name": "stdout",
          "text": [
            "Predicao para o conjunto de validacao\n",
            "Acuracia para o conjunto de validacao\n",
            "0.7779028132992327\n",
            "na Base de Teste e ou Validação\n"
          ]
        }
      ]
    },
    {
      "cell_type": "code",
      "source": [
        "from sklearn import metrics"
      ],
      "metadata": {
        "id": "J5-0owlRQMF0"
      },
      "execution_count": 96,
      "outputs": []
    },
    {
      "cell_type": "code",
      "source": [
        "# Criando uma Confusion Matrix\n",
        "print(\"Confusion Matrix\")\n",
        "\n",
        "print(\"{0}\".format(metrics.confusion_matrix(y_val, y_pred_val, labels = [1, 0])))\n",
        "print(\"\")\n",
        "\n",
        "print(\"Classification Report\")\n",
        "print(metrics.classification_report(y_val, y_pred_val, labels = [1, 0]))"
      ],
      "metadata": {
        "colab": {
          "base_uri": "https://localhost:8080/"
        },
        "id": "5DbImK37QhtR",
        "outputId": "1269b7b6-7104-4df8-b399-e985492bfa76"
      },
      "execution_count": 97,
      "outputs": [
        {
          "output_type": "stream",
          "name": "stdout",
          "text": [
            "Confusion Matrix\n",
            "[[   0 2171]\n",
            " [   0 7604]]\n",
            "\n",
            "Classification Report\n",
            "              precision    recall  f1-score   support\n",
            "\n",
            "           1       0.00      0.00      0.00      2171\n",
            "           0       0.78      1.00      0.88      7604\n",
            "\n",
            "    accuracy                           0.78      9775\n",
            "   macro avg       0.39      0.50      0.44      9775\n",
            "weighted avg       0.61      0.78      0.68      9775\n",
            "\n"
          ]
        },
        {
          "output_type": "stream",
          "name": "stderr",
          "text": [
            "/usr/local/lib/python3.9/dist-packages/sklearn/metrics/_classification.py:1344: UndefinedMetricWarning: Precision and F-score are ill-defined and being set to 0.0 in labels with no predicted samples. Use `zero_division` parameter to control this behavior.\n",
            "  _warn_prf(average, modifier, msg_start, len(result))\n",
            "/usr/local/lib/python3.9/dist-packages/sklearn/metrics/_classification.py:1344: UndefinedMetricWarning: Precision and F-score are ill-defined and being set to 0.0 in labels with no predicted samples. Use `zero_division` parameter to control this behavior.\n",
            "  _warn_prf(average, modifier, msg_start, len(result))\n",
            "/usr/local/lib/python3.9/dist-packages/sklearn/metrics/_classification.py:1344: UndefinedMetricWarning: Precision and F-score are ill-defined and being set to 0.0 in labels with no predicted samples. Use `zero_division` parameter to control this behavior.\n",
            "  _warn_prf(average, modifier, msg_start, len(result))\n"
          ]
        }
      ]
    },
    {
      "cell_type": "code",
      "source": [
        "# Criando uma Curva Roc\n",
        "print(\"Roc Curve\")"
      ],
      "metadata": {
        "colab": {
          "base_uri": "https://localhost:8080/"
        },
        "id": "I9Zdy0UAQqCG",
        "outputId": "a0fb555f-b650-419c-c1bd-77c195038c5d"
      },
      "execution_count": 98,
      "outputs": [
        {
          "output_type": "stream",
          "name": "stdout",
          "text": [
            "Roc Curve\n"
          ]
        }
      ]
    },
    {
      "cell_type": "code",
      "source": [
        "# Otimizando o modelo com RandomForest\n",
        "#Realizando operações com mais de um Algoritmo de Machine Learning (Classificação)"
      ],
      "metadata": {
        "id": "lblS8CkqVXV9"
      },
      "execution_count": 99,
      "outputs": []
    },
    {
      "cell_type": "code",
      "source": [
        "from sklearn.ensemble import RandomForestClassifier"
      ],
      "metadata": {
        "id": "9E_pxiFufglO"
      },
      "execution_count": 100,
      "outputs": []
    },
    {
      "cell_type": "code",
      "source": [
        "modelo_v2 = RandomForestClassifier(random_state = 42)\n",
        "modelo_v2.fit(x_treino, y_treino.ravel())"
      ],
      "metadata": {
        "colab": {
          "base_uri": "https://localhost:8080/",
          "height": 75
        },
        "id": "gZhd2YaHfi9S",
        "outputId": "caf910b1-e03b-46a5-ee85-2a63f5ef7891"
      },
      "execution_count": 101,
      "outputs": [
        {
          "output_type": "execute_result",
          "data": {
            "text/plain": [
              "RandomForestClassifier(random_state=42)"
            ],
            "text/html": [
              "<style>#sk-container-id-6 {color: black;background-color: white;}#sk-container-id-6 pre{padding: 0;}#sk-container-id-6 div.sk-toggleable {background-color: white;}#sk-container-id-6 label.sk-toggleable__label {cursor: pointer;display: block;width: 100%;margin-bottom: 0;padding: 0.3em;box-sizing: border-box;text-align: center;}#sk-container-id-6 label.sk-toggleable__label-arrow:before {content: \"▸\";float: left;margin-right: 0.25em;color: #696969;}#sk-container-id-6 label.sk-toggleable__label-arrow:hover:before {color: black;}#sk-container-id-6 div.sk-estimator:hover label.sk-toggleable__label-arrow:before {color: black;}#sk-container-id-6 div.sk-toggleable__content {max-height: 0;max-width: 0;overflow: hidden;text-align: left;background-color: #f0f8ff;}#sk-container-id-6 div.sk-toggleable__content pre {margin: 0.2em;color: black;border-radius: 0.25em;background-color: #f0f8ff;}#sk-container-id-6 input.sk-toggleable__control:checked~div.sk-toggleable__content {max-height: 200px;max-width: 100%;overflow: auto;}#sk-container-id-6 input.sk-toggleable__control:checked~label.sk-toggleable__label-arrow:before {content: \"▾\";}#sk-container-id-6 div.sk-estimator input.sk-toggleable__control:checked~label.sk-toggleable__label {background-color: #d4ebff;}#sk-container-id-6 div.sk-label input.sk-toggleable__control:checked~label.sk-toggleable__label {background-color: #d4ebff;}#sk-container-id-6 input.sk-hidden--visually {border: 0;clip: rect(1px 1px 1px 1px);clip: rect(1px, 1px, 1px, 1px);height: 1px;margin: -1px;overflow: hidden;padding: 0;position: absolute;width: 1px;}#sk-container-id-6 div.sk-estimator {font-family: monospace;background-color: #f0f8ff;border: 1px dotted black;border-radius: 0.25em;box-sizing: border-box;margin-bottom: 0.5em;}#sk-container-id-6 div.sk-estimator:hover {background-color: #d4ebff;}#sk-container-id-6 div.sk-parallel-item::after {content: \"\";width: 100%;border-bottom: 1px solid gray;flex-grow: 1;}#sk-container-id-6 div.sk-label:hover label.sk-toggleable__label {background-color: #d4ebff;}#sk-container-id-6 div.sk-serial::before {content: \"\";position: absolute;border-left: 1px solid gray;box-sizing: border-box;top: 0;bottom: 0;left: 50%;z-index: 0;}#sk-container-id-6 div.sk-serial {display: flex;flex-direction: column;align-items: center;background-color: white;padding-right: 0.2em;padding-left: 0.2em;position: relative;}#sk-container-id-6 div.sk-item {position: relative;z-index: 1;}#sk-container-id-6 div.sk-parallel {display: flex;align-items: stretch;justify-content: center;background-color: white;position: relative;}#sk-container-id-6 div.sk-item::before, #sk-container-id-6 div.sk-parallel-item::before {content: \"\";position: absolute;border-left: 1px solid gray;box-sizing: border-box;top: 0;bottom: 0;left: 50%;z-index: -1;}#sk-container-id-6 div.sk-parallel-item {display: flex;flex-direction: column;z-index: 1;position: relative;background-color: white;}#sk-container-id-6 div.sk-parallel-item:first-child::after {align-self: flex-end;width: 50%;}#sk-container-id-6 div.sk-parallel-item:last-child::after {align-self: flex-start;width: 50%;}#sk-container-id-6 div.sk-parallel-item:only-child::after {width: 0;}#sk-container-id-6 div.sk-dashed-wrapped {border: 1px dashed gray;margin: 0 0.4em 0.5em 0.4em;box-sizing: border-box;padding-bottom: 0.4em;background-color: white;}#sk-container-id-6 div.sk-label label {font-family: monospace;font-weight: bold;display: inline-block;line-height: 1.2em;}#sk-container-id-6 div.sk-label-container {text-align: center;}#sk-container-id-6 div.sk-container {/* jupyter's `normalize.less` sets `[hidden] { display: none; }` but bootstrap.min.css set `[hidden] { display: none !important; }` so we also need the `!important` here to be able to override the default hidden behavior on the sphinx rendered scikit-learn.org. See: https://github.com/scikit-learn/scikit-learn/issues/21755 */display: inline-block !important;position: relative;}#sk-container-id-6 div.sk-text-repr-fallback {display: none;}</style><div id=\"sk-container-id-6\" class=\"sk-top-container\"><div class=\"sk-text-repr-fallback\"><pre>RandomForestClassifier(random_state=42)</pre><b>In a Jupyter environment, please rerun this cell to show the HTML representation or trust the notebook. <br />On GitHub, the HTML representation is unable to render, please try loading this page with nbviewer.org.</b></div><div class=\"sk-container\" hidden><div class=\"sk-item\"><div class=\"sk-estimator sk-toggleable\"><input class=\"sk-toggleable__control sk-hidden--visually\" id=\"sk-estimator-id-6\" type=\"checkbox\" checked><label for=\"sk-estimator-id-6\" class=\"sk-toggleable__label sk-toggleable__label-arrow\">RandomForestClassifier</label><div class=\"sk-toggleable__content\"><pre>RandomForestClassifier(random_state=42)</pre></div></div></div></div></div>"
            ]
          },
          "metadata": {},
          "execution_count": 101
        }
      ]
    },
    {
      "cell_type": "code",
      "source": [
        "# Verificando os dados de treino\n",
        "rf_predict_train = modelo_v2.predict(x_treino)\n",
        "print(\"Exatidão (Accuracy): {0:.4f}\".format(metrics.accuracy_score(y_treino, rf_predict_train)))"
      ],
      "metadata": {
        "colab": {
          "base_uri": "https://localhost:8080/"
        },
        "id": "cfuvBV9xfmwp",
        "outputId": "3ad9b458-90dd-44b6-f6df-2c4be41f9cba"
      },
      "execution_count": 102,
      "outputs": [
        {
          "output_type": "stream",
          "name": "stdout",
          "text": [
            "Exatidão (Accuracy): 0.9896\n"
          ]
        }
      ]
    },
    {
      "cell_type": "code",
      "source": [
        "# Verificando nos dados de teste\n",
        "rf_predict_test = modelo_v2.predict(x_val)\n",
        "print(\"Exatidão (Accuracy): na Base de Teste {0:.4f}\".format(metrics.accuracy_score(y_val, rf_predict_test)))\n",
        "print()"
      ],
      "metadata": {
        "colab": {
          "base_uri": "https://localhost:8080/"
        },
        "id": "_2DSpVHJfssC",
        "outputId": "a7b0adf6-1c72-4eaa-b9a1-24a03df410b2"
      },
      "execution_count": 103,
      "outputs": [
        {
          "output_type": "stream",
          "name": "stdout",
          "text": [
            "Exatidão (Accuracy): na Base de Teste 0.8287\n",
            "\n"
          ]
        }
      ]
    },
    {
      "cell_type": "code",
      "source": [
        "# Validação do Modelo com a Matrix de Confusão\n",
        "print(\"Confusion Matrix\")\n",
        "\n",
        "print(\"{0}\".format(metrics.confusion_matrix(y_val, rf_predict_test, labels = [1, 0])))\n",
        "print(\"\")\n",
        "\n",
        "print(\"Classification Report\")\n",
        "print(metrics.classification_report(y_val, rf_predict_test, labels = [1, 0]))"
      ],
      "metadata": {
        "colab": {
          "base_uri": "https://localhost:8080/"
        },
        "id": "ysVxx9dqfz0r",
        "outputId": "16567950-02d5-4f57-8430-7ddc8f13ace8"
      },
      "execution_count": 104,
      "outputs": [
        {
          "output_type": "stream",
          "name": "stdout",
          "text": [
            "Confusion Matrix\n",
            "[[1018 1153]\n",
            " [ 521 7083]]\n",
            "\n",
            "Classification Report\n",
            "              precision    recall  f1-score   support\n",
            "\n",
            "           1       0.66      0.47      0.55      2171\n",
            "           0       0.86      0.93      0.89      7604\n",
            "\n",
            "    accuracy                           0.83      9775\n",
            "   macro avg       0.76      0.70      0.72      9775\n",
            "weighted avg       0.82      0.83      0.82      9775\n",
            "\n"
          ]
        }
      ]
    },
    {
      "cell_type": "code",
      "source": [
        "# Regressão Logística\n",
        "# Terceiro Algorítmo de Machine Learning de Classificação de Dados"
      ],
      "metadata": {
        "id": "qT5MnrVIf3_g"
      },
      "execution_count": 105,
      "outputs": []
    },
    {
      "cell_type": "code",
      "source": [
        "from sklearn.linear_model import LogisticRegression"
      ],
      "metadata": {
        "id": "9loc9mgQf81K"
      },
      "execution_count": 106,
      "outputs": []
    },
    {
      "cell_type": "code",
      "source": [
        "# Terceira versão do modelo usando Regressão Logística\n",
        "modelo_v3 = LogisticRegression(C = 0.7, random_state = 42)\n",
        "modelo_v3.fit(x_treino, y_treino.ravel())\n",
        "lr_predict_test = modelo_v3.predict(x_val)"
      ],
      "metadata": {
        "id": "mNiCCY7yf--r"
      },
      "execution_count": 107,
      "outputs": []
    },
    {
      "cell_type": "code",
      "source": [
        "print(\"Exatidão (Accuracy): na Base de Teste {0:.4f}\".format(metrics.accuracy_score(y_val, lr_predict_test)))\n",
        "print()\n",
        "print(\"Classification Report\")\n",
        "print(metrics.classification_report(y_val, lr_predict_test, labels = [1, 0]))"
      ],
      "metadata": {
        "colab": {
          "base_uri": "https://localhost:8080/"
        },
        "id": "LPGUK2ehgFll",
        "outputId": "34702ab8-14a1-4e0f-9612-a471c24f42a8"
      },
      "execution_count": 108,
      "outputs": [
        {
          "output_type": "stream",
          "name": "stdout",
          "text": [
            "Exatidão (Accuracy): na Base de Teste 0.7779\n",
            "\n",
            "Classification Report\n",
            "              precision    recall  f1-score   support\n",
            "\n",
            "           1       0.00      0.00      0.00      2171\n",
            "           0       0.78      1.00      0.88      7604\n",
            "\n",
            "    accuracy                           0.78      9775\n",
            "   macro avg       0.39      0.50      0.44      9775\n",
            "weighted avg       0.61      0.78      0.68      9775\n",
            "\n"
          ]
        },
        {
          "output_type": "stream",
          "name": "stderr",
          "text": [
            "/usr/local/lib/python3.9/dist-packages/sklearn/metrics/_classification.py:1344: UndefinedMetricWarning: Precision and F-score are ill-defined and being set to 0.0 in labels with no predicted samples. Use `zero_division` parameter to control this behavior.\n",
            "  _warn_prf(average, modifier, msg_start, len(result))\n",
            "/usr/local/lib/python3.9/dist-packages/sklearn/metrics/_classification.py:1344: UndefinedMetricWarning: Precision and F-score are ill-defined and being set to 0.0 in labels with no predicted samples. Use `zero_division` parameter to control this behavior.\n",
            "  _warn_prf(average, modifier, msg_start, len(result))\n",
            "/usr/local/lib/python3.9/dist-packages/sklearn/metrics/_classification.py:1344: UndefinedMetricWarning: Precision and F-score are ill-defined and being set to 0.0 in labels with no predicted samples. Use `zero_division` parameter to control this behavior.\n",
            "  _warn_prf(average, modifier, msg_start, len(result))\n"
          ]
        }
      ]
    },
    {
      "cell_type": "code",
      "source": [
        "### Resumindo\n",
        "## Exatidão nos dados Risco de Crédito\n",
        "\n",
        "# Modelo usando algoritmo Naive Bayes         = 78%\n",
        "# Modelo usando algoritmo Random Forest       = 98% \n",
        "# Modelo usando algoritmo Regressão Logística = 77% \n"
      ],
      "metadata": {
        "id": "Witt1gvEgI-3"
      },
      "execution_count": 109,
      "outputs": []
    },
    {
      "cell_type": "code",
      "source": [],
      "metadata": {
        "id": "-tNWYOUCh5dh"
      },
      "execution_count": null,
      "outputs": []
    }
  ]
}